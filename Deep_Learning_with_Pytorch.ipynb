{
  "nbformat": 4,
  "nbformat_minor": 0,
  "metadata": {
    "colab": {
      "provenance": [],
      "authorship_tag": "ABX9TyOsEisE3ime5sF4Rr9Bgm1F",
      "include_colab_link": true
    },
    "kernelspec": {
      "name": "python3",
      "display_name": "Python 3"
    },
    "language_info": {
      "name": "python"
    }
  },
  "cells": [
    {
      "cell_type": "markdown",
      "metadata": {
        "id": "view-in-github",
        "colab_type": "text"
      },
      "source": [
        "<a href=\"https://colab.research.google.com/github/AnaRaquelCafe/PyTorch/blob/main/Deep_Learning_with_Pytorch.ipynb\" target=\"_parent\"><img src=\"https://colab.research.google.com/assets/colab-badge.svg\" alt=\"Open In Colab\"/></a>"
      ]
    },
    {
      "cell_type": "code",
      "source": [
        "import torch\n",
        "import numpy as np"
      ],
      "metadata": {
        "id": "QMwL74vlTPc9"
      },
      "execution_count": 2,
      "outputs": []
    },
    {
      "cell_type": "markdown",
      "source": [
        "# **Conhecendo os Tensores**\n",
        "\n",
        "Tensor é um array multimensional, muito parecido com os array do numpy, porém, mais poderosos!\n"
      ],
      "metadata": {
        "id": "0cyJqskLdytd"
      }
    },
    {
      "cell_type": "code",
      "source": [
        "tendor_2d = torch.randn(3,4)\n",
        "tendor_2d"
      ],
      "metadata": {
        "colab": {
          "base_uri": "https://localhost:8080/"
        },
        "id": "bVTmZXjrd45s",
        "outputId": "9edc9971-edc2-4660-b58b-456a80f01b49"
      },
      "execution_count": 3,
      "outputs": [
        {
          "output_type": "execute_result",
          "data": {
            "text/plain": [
              "tensor([[ 0.0349, -0.1639, -1.0486, -1.1963],\n",
              "        [ 2.3468, -0.0589, -2.0127, -1.1390],\n",
              "        [-0.6948, -0.3135,  0.7091, -1.7653]])"
            ]
          },
          "metadata": {},
          "execution_count": 3
        }
      ]
    },
    {
      "cell_type": "code",
      "source": [
        "tendor_3d = torch.randn(2,3,4)\n",
        "tendor_3d"
      ],
      "metadata": {
        "colab": {
          "base_uri": "https://localhost:8080/"
        },
        "id": "yeMUvbTcgNyO",
        "outputId": "112c217e-ac6b-4eb1-9829-0dca30b747cd"
      },
      "execution_count": 7,
      "outputs": [
        {
          "output_type": "execute_result",
          "data": {
            "text/plain": [
              "tensor([[[-1.0605, -0.3042,  1.7612,  0.1269],\n",
              "         [ 0.2756,  0.8139,  0.2368,  0.6759],\n",
              "         [-0.5488,  1.4741, -0.1417,  0.1295]],\n",
              "\n",
              "        [[-0.7735,  0.6594,  0.1157,  0.2409],\n",
              "         [-0.7762, -0.7047, -1.2413,  0.3605],\n",
              "         [ 0.7618,  0.6456,  0.8827, -2.0287]]])"
            ]
          },
          "metadata": {},
          "execution_count": 7
        }
      ]
    }
  ]
}